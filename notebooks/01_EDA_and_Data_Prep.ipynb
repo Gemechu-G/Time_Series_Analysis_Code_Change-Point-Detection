{
 "cells": [
  {
   "cell_type": "code",
   "execution_count": null,
   "id": "e371e360",
   "metadata": {
    "vscode": {
     "languageId": "plaintext"
    }
   },
   "outputs": [],
   "source": [
    "import pandas as pd\n",
    "import numpy as np\n",
    "import matplotlib.pyplot as plt\n",
    "%matplotlib inline \n",
    "# This line ensures plots are displayed directly in the notebook"
   ]
  },
  {
   "cell_type": "code",
   "execution_count": null,
   "metadata": {
    "vscode": {
     "languageId": "plaintext"
    }
   },
   "outputs": [],
   "source": [
    "# For Google Colab\n",
    "from google.colab import drive\n",
    "drive.mount('/content/drive')\n",
    "\n",
    "# Then, provide the full path to your file\n",
    "file_path = '/data/raw/BrentOilPrices.csv' # Adjust the path as needed\n",
    "df = pd.read_csv(file_path)\n",
    "\n",
    "# If you are working locally, a simple relative path will work\n",
    "# df = pd.read_csv('data/raw/BrentOilPrices.csv')"
   ]
  },
  {
   "cell_type": "code",
   "execution_count": null,
   "id": "ee1c75e1",
   "metadata": {
    "vscode": {
     "languageId": "plaintext"
    }
   },
   "outputs": [],
   "source": [
    "# Display the first 5 rows to see what the data looks like\n",
    "print(df.head())\n",
    "\n",
    "# Get a summary of the dataframe, including data types and non-null counts\n",
    "print(df.info())"
   ]
  },
  {
   "cell_type": "code",
   "execution_count": null,
   "id": "9b2118f3",
   "metadata": {
    "vscode": {
     "languageId": "plaintext"
    }
   },
   "outputs": [],
   "source": [
    "# Convert the 'Date' column to datetime objects\n",
    "df['Date'] = pd.to_datetime(df['Date'], format='%d-%b-%y')\n",
    "\n",
    "# Set the 'Date' column as the DataFrame index\n",
    "df.set_index('Date', inplace=True)\n",
    "\n",
    "# Check the data types again to confirm the change\n",
    "print(df.info())"
   ]
  },
  {
   "cell_type": "code",
   "execution_count": null,
   "id": "dc7936ac",
   "metadata": {
    "vscode": {
     "languageId": "plaintext"
    }
   },
   "outputs": [],
   "source": [
    "# Check for any missing values\n",
    "print(df.isnull().sum())\n",
    "\n",
    "# Depending on the number of missing values, you may need to handle them.\n",
    "# For a few, you could use forward fill (ffill) or back fill (bfill).\n",
    "# df.ffill(inplace=True)"
   ]
  },
  {
   "cell_type": "code",
   "execution_count": null,
   "id": "dad6cfe0",
   "metadata": {
    "vscode": {
     "languageId": "plaintext"
    }
   },
   "outputs": [],
   "source": [
    "plt.figure(figsize=(15, 7))\n",
    "plt.plot(df['Price'])\n",
    "plt.title('Brent Oil Prices Over Time')\n",
    "plt.xlabel('Date')\n",
    "plt.ylabel('Price (USD)')\n",
    "plt.grid(True)\n",
    "plt.show()"
   ]
  },
  {
   "cell_type": "code",
   "execution_count": null,
   "id": "12b6dc33",
   "metadata": {
    "vscode": {
     "languageId": "plaintext"
    }
   },
   "outputs": [],
   "source": [
    "# Calculate log returns\n",
    "df['Log_Returns'] = np.log(df['Price'] / df['Price'].shift(1))\n",
    "\n",
    "plt.figure(figsize=(15, 7))\n",
    "plt.plot(df['Log_Returns'])\n",
    "plt.title('Daily Log Returns of Brent Oil Prices')\n",
    "plt.xlabel('Date')\n",
    "plt.ylabel('Log Return')\n",
    "plt.grid(True)\n",
    "plt.show()"
   ]
  }
 ],
 "metadata": {
  "language_info": {
   "name": "python"
  }
 },
 "nbformat": 4,
 "nbformat_minor": 5
}
